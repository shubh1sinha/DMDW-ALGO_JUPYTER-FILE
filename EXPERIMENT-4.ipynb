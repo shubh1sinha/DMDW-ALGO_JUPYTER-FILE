{
 "cells": [
  {
   "cell_type": "code",
   "execution_count": 1,
   "metadata": {},
   "outputs": [],
   "source": [
    "import numpy as np\n",
    "import pandas as pd\n",
    "from mlxtend.frequent_patterns import apriori, association_rules"
   ]
  },
  {
   "cell_type": "code",
   "execution_count": 2,
   "metadata": {},
   "outputs": [],
   "source": [
    "data=pd.read_excel('online_retail.xlsx')"
   ]
  },
  {
   "cell_type": "code",
   "execution_count": 3,
   "metadata": {},
   "outputs": [
    {
     "data": {
      "text/html": [
       "<div>\n",
       "<style scoped>\n",
       "    .dataframe tbody tr th:only-of-type {\n",
       "        vertical-align: middle;\n",
       "    }\n",
       "\n",
       "    .dataframe tbody tr th {\n",
       "        vertical-align: top;\n",
       "    }\n",
       "\n",
       "    .dataframe thead th {\n",
       "        text-align: right;\n",
       "    }\n",
       "</style>\n",
       "<table border=\"1\" class=\"dataframe\">\n",
       "  <thead>\n",
       "    <tr style=\"text-align: right;\">\n",
       "      <th></th>\n",
       "      <th>InvoiceNo</th>\n",
       "      <th>StockCode</th>\n",
       "      <th>lower</th>\n",
       "      <th>Description</th>\n",
       "      <th>Quantity</th>\n",
       "      <th>InvoiceDate</th>\n",
       "      <th>UnitPrice</th>\n",
       "      <th>CustomerID</th>\n",
       "      <th>Country</th>\n",
       "    </tr>\n",
       "  </thead>\n",
       "  <tbody>\n",
       "    <tr>\n",
       "      <td>0</td>\n",
       "      <td>536365</td>\n",
       "      <td>85123A</td>\n",
       "      <td>white hanging heart t-light holder</td>\n",
       "      <td>WHITE HANGING HEART T-LIGHT HOLDER</td>\n",
       "      <td>6</td>\n",
       "      <td>2010-12-01 08:26:00</td>\n",
       "      <td>2.55</td>\n",
       "      <td>17850.0</td>\n",
       "      <td>United Kingdom</td>\n",
       "    </tr>\n",
       "    <tr>\n",
       "      <td>1</td>\n",
       "      <td>536365</td>\n",
       "      <td>71053</td>\n",
       "      <td>white metal lantern</td>\n",
       "      <td>WHITE METAL LANTERN</td>\n",
       "      <td>6</td>\n",
       "      <td>2010-12-01 08:26:00</td>\n",
       "      <td>3.39</td>\n",
       "      <td>17850.0</td>\n",
       "      <td>United Kingdom</td>\n",
       "    </tr>\n",
       "    <tr>\n",
       "      <td>2</td>\n",
       "      <td>536365</td>\n",
       "      <td>84406B</td>\n",
       "      <td>cream cupid hearts coat hanger</td>\n",
       "      <td>CREAM CUPID HEARTS COAT HANGER</td>\n",
       "      <td>8</td>\n",
       "      <td>2010-12-01 08:26:00</td>\n",
       "      <td>2.75</td>\n",
       "      <td>17850.0</td>\n",
       "      <td>United Kingdom</td>\n",
       "    </tr>\n",
       "    <tr>\n",
       "      <td>3</td>\n",
       "      <td>536365</td>\n",
       "      <td>84029G</td>\n",
       "      <td>knitted union flag hot water bottle</td>\n",
       "      <td>KNITTED UNION FLAG HOT WATER BOTTLE</td>\n",
       "      <td>6</td>\n",
       "      <td>2010-12-01 08:26:00</td>\n",
       "      <td>3.39</td>\n",
       "      <td>17850.0</td>\n",
       "      <td>United Kingdom</td>\n",
       "    </tr>\n",
       "    <tr>\n",
       "      <td>4</td>\n",
       "      <td>536365</td>\n",
       "      <td>84029E</td>\n",
       "      <td>red woolly hottie white heart.</td>\n",
       "      <td>RED WOOLLY HOTTIE WHITE HEART.</td>\n",
       "      <td>6</td>\n",
       "      <td>2010-12-01 08:26:00</td>\n",
       "      <td>3.39</td>\n",
       "      <td>17850.0</td>\n",
       "      <td>United Kingdom</td>\n",
       "    </tr>\n",
       "  </tbody>\n",
       "</table>\n",
       "</div>"
      ],
      "text/plain": [
       "  InvoiceNo StockCode                                lower  \\\n",
       "0    536365    85123A   white hanging heart t-light holder   \n",
       "1    536365     71053                  white metal lantern   \n",
       "2    536365    84406B       cream cupid hearts coat hanger   \n",
       "3    536365    84029G  knitted union flag hot water bottle   \n",
       "4    536365    84029E       red woolly hottie white heart.   \n",
       "\n",
       "                           Description  Quantity         InvoiceDate  \\\n",
       "0   WHITE HANGING HEART T-LIGHT HOLDER         6 2010-12-01 08:26:00   \n",
       "1                  WHITE METAL LANTERN         6 2010-12-01 08:26:00   \n",
       "2       CREAM CUPID HEARTS COAT HANGER         8 2010-12-01 08:26:00   \n",
       "3  KNITTED UNION FLAG HOT WATER BOTTLE         6 2010-12-01 08:26:00   \n",
       "4       RED WOOLLY HOTTIE WHITE HEART.         6 2010-12-01 08:26:00   \n",
       "\n",
       "   UnitPrice  CustomerID         Country  \n",
       "0       2.55     17850.0  United Kingdom  \n",
       "1       3.39     17850.0  United Kingdom  \n",
       "2       2.75     17850.0  United Kingdom  \n",
       "3       3.39     17850.0  United Kingdom  \n",
       "4       3.39     17850.0  United Kingdom  "
      ]
     },
     "execution_count": 3,
     "metadata": {},
     "output_type": "execute_result"
    }
   ],
   "source": [
    "data.head(5)"
   ]
  },
  {
   "cell_type": "code",
   "execution_count": 4,
   "metadata": {},
   "outputs": [
    {
     "data": {
      "text/plain": [
       "Index(['InvoiceNo', 'StockCode', 'lower', 'Description', 'Quantity',\n",
       "       'InvoiceDate', 'UnitPrice', 'CustomerID', 'Country'],\n",
       "      dtype='object')"
      ]
     },
     "execution_count": 4,
     "metadata": {},
     "output_type": "execute_result"
    }
   ],
   "source": [
    "data.columns"
   ]
  },
  {
   "cell_type": "code",
   "execution_count": 5,
   "metadata": {},
   "outputs": [
    {
     "data": {
      "text/plain": [
       "array(['United Kingdom', 'France', 'Australia', 'Netherlands', 'Germany',\n",
       "       'Norway', 'EIRE', 'Switzerland', 'Spain', 'Poland', 'Portugal',\n",
       "       'Italy', 'Belgium', 'Lithuania', 'Japan', 'Iceland',\n",
       "       'Channel Islands', 'Denmark', 'Cyprus', 'Sweden', 'Austria',\n",
       "       'Israel', 'Finland', 'Bahrain', 'Greece', 'Hong Kong', 'Singapore',\n",
       "       'Lebanon', 'United Arab Emirates', 'Saudi Arabia',\n",
       "       'Czech Republic', 'Canada', 'Unspecified', 'Brazil', 'USA',\n",
       "       'European Community', 'Malta', 'RSA'], dtype=object)"
      ]
     },
     "execution_count": 5,
     "metadata": {},
     "output_type": "execute_result"
    }
   ],
   "source": [
    "data.Country.unique()"
   ]
  },
  {
   "cell_type": "code",
   "execution_count": 6,
   "metadata": {},
   "outputs": [],
   "source": [
    "data['Description'] = data['Description'].str.strip()"
   ]
  },
  {
   "cell_type": "code",
   "execution_count": 7,
   "metadata": {},
   "outputs": [],
   "source": [
    "data.dropna(axis=0, subset=['InvoiceNo'],inplace=True)"
   ]
  },
  {
   "cell_type": "code",
   "execution_count": 8,
   "metadata": {},
   "outputs": [],
   "source": [
    "data['InvoiceNo']=data['InvoiceNo'].astype('str')"
   ]
  },
  {
   "cell_type": "code",
   "execution_count": 9,
   "metadata": {},
   "outputs": [],
   "source": [
    "data=data[~ data['InvoiceNo'].str.contains('C')]"
   ]
  },
  {
   "cell_type": "code",
   "execution_count": 10,
   "metadata": {},
   "outputs": [],
   "source": [
    "bucket_France = data[data['Country']==\"France\"].groupby(['InvoiceNo', 'Description'])['Quantity'].sum().unstack().reset_index().fillna(0).set_index('InvoiceNo')"
   ]
  },
  {
   "cell_type": "code",
   "execution_count": 11,
   "metadata": {},
   "outputs": [],
   "source": [
    "bucket_Australia = data[data['Country']==\"Australia\"].groupby(['InvoiceNo', 'Description'])['Quantity'].sum().unstack().reset_index().fillna(0).set_index('InvoiceNo')"
   ]
  },
  {
   "cell_type": "code",
   "execution_count": 12,
   "metadata": {},
   "outputs": [],
   "source": [
    "bucket_Portugal = data[data['Country']==\"Portugal\"].groupby(['InvoiceNo', 'Description'])['Quantity'].sum().unstack().reset_index().fillna(0).set_index('InvoiceNo')"
   ]
  },
  {
   "cell_type": "code",
   "execution_count": 13,
   "metadata": {},
   "outputs": [],
   "source": [
    "bucket_Italy = data[data['Country']==\"Italy\"].groupby(['InvoiceNo', 'Description'])['Quantity'].sum().unstack().reset_index().fillna(0).set_index('InvoiceNo')"
   ]
  },
  {
   "cell_type": "code",
   "execution_count": 14,
   "metadata": {},
   "outputs": [],
   "source": [
    "def hot_encode(x):\n",
    "    if(x<=0):\n",
    "        return 0\n",
    "    if(x>=1):\n",
    "        return 1"
   ]
  },
  {
   "cell_type": "code",
   "execution_count": 15,
   "metadata": {},
   "outputs": [],
   "source": [
    "b_encoded=bucket_France.applymap(hot_encode)\n",
    "bucket_France = b_encoded"
   ]
  },
  {
   "cell_type": "code",
   "execution_count": 16,
   "metadata": {},
   "outputs": [],
   "source": [
    "b_encoded=bucket_Australia.applymap(hot_encode)\n",
    "bucket_Australia = b_encoded"
   ]
  },
  {
   "cell_type": "code",
   "execution_count": 17,
   "metadata": {},
   "outputs": [],
   "source": [
    "b_encoded=bucket_Portugal.applymap(hot_encode)\n",
    "bucket_Portugal = b_encoded"
   ]
  },
  {
   "cell_type": "code",
   "execution_count": 18,
   "metadata": {},
   "outputs": [],
   "source": [
    "b_encoded=bucket_Italy.applymap(hot_encode)\n",
    "bucket_Italy = b_encoded"
   ]
  },
  {
   "cell_type": "code",
   "execution_count": 19,
   "metadata": {},
   "outputs": [
    {
     "data": {
      "text/html": [
       "<div>\n",
       "<style scoped>\n",
       "    .dataframe tbody tr th:only-of-type {\n",
       "        vertical-align: middle;\n",
       "    }\n",
       "\n",
       "    .dataframe tbody tr th {\n",
       "        vertical-align: top;\n",
       "    }\n",
       "\n",
       "    .dataframe thead th {\n",
       "        text-align: right;\n",
       "    }\n",
       "</style>\n",
       "<table border=\"1\" class=\"dataframe\">\n",
       "  <thead>\n",
       "    <tr style=\"text-align: right;\">\n",
       "      <th></th>\n",
       "      <th>support</th>\n",
       "      <th>itemsets</th>\n",
       "    </tr>\n",
       "  </thead>\n",
       "  <tbody>\n",
       "    <tr>\n",
       "      <td>0</td>\n",
       "      <td>0.071429</td>\n",
       "      <td>(4 TRADITIONAL SPINNING TOPS)</td>\n",
       "    </tr>\n",
       "    <tr>\n",
       "      <td>1</td>\n",
       "      <td>0.096939</td>\n",
       "      <td>(ALARM CLOCK BAKELIKE GREEN)</td>\n",
       "    </tr>\n",
       "    <tr>\n",
       "      <td>2</td>\n",
       "      <td>0.102041</td>\n",
       "      <td>(ALARM CLOCK BAKELIKE PINK)</td>\n",
       "    </tr>\n",
       "    <tr>\n",
       "      <td>3</td>\n",
       "      <td>0.094388</td>\n",
       "      <td>(ALARM CLOCK BAKELIKE RED)</td>\n",
       "    </tr>\n",
       "    <tr>\n",
       "      <td>4</td>\n",
       "      <td>0.068878</td>\n",
       "      <td>(ASSORTED COLOUR MINI CASES)</td>\n",
       "    </tr>\n",
       "  </tbody>\n",
       "</table>\n",
       "</div>"
      ],
      "text/plain": [
       "    support                       itemsets\n",
       "0  0.071429  (4 TRADITIONAL SPINNING TOPS)\n",
       "1  0.096939   (ALARM CLOCK BAKELIKE GREEN)\n",
       "2  0.102041    (ALARM CLOCK BAKELIKE PINK)\n",
       "3  0.094388     (ALARM CLOCK BAKELIKE RED)\n",
       "4  0.068878   (ASSORTED COLOUR MINI CASES)"
      ]
     },
     "execution_count": 19,
     "metadata": {},
     "output_type": "execute_result"
    }
   ],
   "source": [
    "frq_items = apriori(bucket_France, min_support=0.05, use_colnames = True)\n",
    "frq_items.head()\n"
   ]
  },
  {
   "cell_type": "code",
   "execution_count": 20,
   "metadata": {},
   "outputs": [],
   "source": [
    "rules=association_rules(frq_items, metric=\"lift\",min_threshold=1)\n"
   ]
  },
  {
   "cell_type": "code",
   "execution_count": 21,
   "metadata": {},
   "outputs": [
    {
     "data": {
      "text/html": [
       "<div>\n",
       "<style scoped>\n",
       "    .dataframe tbody tr th:only-of-type {\n",
       "        vertical-align: middle;\n",
       "    }\n",
       "\n",
       "    .dataframe tbody tr th {\n",
       "        vertical-align: top;\n",
       "    }\n",
       "\n",
       "    .dataframe thead th {\n",
       "        text-align: right;\n",
       "    }\n",
       "</style>\n",
       "<table border=\"1\" class=\"dataframe\">\n",
       "  <thead>\n",
       "    <tr style=\"text-align: right;\">\n",
       "      <th></th>\n",
       "      <th>antecedents</th>\n",
       "      <th>consequents</th>\n",
       "      <th>antecedent support</th>\n",
       "      <th>consequent support</th>\n",
       "      <th>support</th>\n",
       "      <th>confidence</th>\n",
       "      <th>lift</th>\n",
       "      <th>leverage</th>\n",
       "      <th>conviction</th>\n",
       "    </tr>\n",
       "  </thead>\n",
       "  <tbody>\n",
       "    <tr>\n",
       "      <td>0</td>\n",
       "      <td>(POSTAGE)</td>\n",
       "      <td>(4 TRADITIONAL SPINNING TOPS)</td>\n",
       "      <td>0.765306</td>\n",
       "      <td>0.071429</td>\n",
       "      <td>0.056122</td>\n",
       "      <td>0.073333</td>\n",
       "      <td>1.026667</td>\n",
       "      <td>0.001458</td>\n",
       "      <td>1.002055</td>\n",
       "    </tr>\n",
       "    <tr>\n",
       "      <td>1</td>\n",
       "      <td>(4 TRADITIONAL SPINNING TOPS)</td>\n",
       "      <td>(POSTAGE)</td>\n",
       "      <td>0.071429</td>\n",
       "      <td>0.765306</td>\n",
       "      <td>0.056122</td>\n",
       "      <td>0.785714</td>\n",
       "      <td>1.026667</td>\n",
       "      <td>0.001458</td>\n",
       "      <td>1.095238</td>\n",
       "    </tr>\n",
       "    <tr>\n",
       "      <td>2</td>\n",
       "      <td>(ALARM CLOCK BAKELIKE GREEN)</td>\n",
       "      <td>(ALARM CLOCK BAKELIKE PINK)</td>\n",
       "      <td>0.096939</td>\n",
       "      <td>0.102041</td>\n",
       "      <td>0.073980</td>\n",
       "      <td>0.763158</td>\n",
       "      <td>7.478947</td>\n",
       "      <td>0.064088</td>\n",
       "      <td>3.791383</td>\n",
       "    </tr>\n",
       "    <tr>\n",
       "      <td>3</td>\n",
       "      <td>(ALARM CLOCK BAKELIKE PINK)</td>\n",
       "      <td>(ALARM CLOCK BAKELIKE GREEN)</td>\n",
       "      <td>0.102041</td>\n",
       "      <td>0.096939</td>\n",
       "      <td>0.073980</td>\n",
       "      <td>0.725000</td>\n",
       "      <td>7.478947</td>\n",
       "      <td>0.064088</td>\n",
       "      <td>3.283859</td>\n",
       "    </tr>\n",
       "    <tr>\n",
       "      <td>4</td>\n",
       "      <td>(ALARM CLOCK BAKELIKE GREEN)</td>\n",
       "      <td>(ALARM CLOCK BAKELIKE RED)</td>\n",
       "      <td>0.096939</td>\n",
       "      <td>0.094388</td>\n",
       "      <td>0.079082</td>\n",
       "      <td>0.815789</td>\n",
       "      <td>8.642959</td>\n",
       "      <td>0.069932</td>\n",
       "      <td>4.916181</td>\n",
       "    </tr>\n",
       "    <tr>\n",
       "      <td>...</td>\n",
       "      <td>...</td>\n",
       "      <td>...</td>\n",
       "      <td>...</td>\n",
       "      <td>...</td>\n",
       "      <td>...</td>\n",
       "      <td>...</td>\n",
       "      <td>...</td>\n",
       "      <td>...</td>\n",
       "      <td>...</td>\n",
       "    </tr>\n",
       "    <tr>\n",
       "      <td>343</td>\n",
       "      <td>(POSTAGE, SET/20 RED RETROSPOT PAPER NAPKINS)</td>\n",
       "      <td>(SET/6 RED SPOTTY PAPER CUPS, SET/6 RED SPOTTY...</td>\n",
       "      <td>0.109694</td>\n",
       "      <td>0.122449</td>\n",
       "      <td>0.081633</td>\n",
       "      <td>0.744186</td>\n",
       "      <td>6.077519</td>\n",
       "      <td>0.068201</td>\n",
       "      <td>3.430427</td>\n",
       "    </tr>\n",
       "    <tr>\n",
       "      <td>344</td>\n",
       "      <td>(SET/6 RED SPOTTY PAPER CUPS)</td>\n",
       "      <td>(SET/6 RED SPOTTY PAPER PLATES, POSTAGE, SET/2...</td>\n",
       "      <td>0.137755</td>\n",
       "      <td>0.084184</td>\n",
       "      <td>0.081633</td>\n",
       "      <td>0.592593</td>\n",
       "      <td>7.039282</td>\n",
       "      <td>0.070036</td>\n",
       "      <td>2.247913</td>\n",
       "    </tr>\n",
       "    <tr>\n",
       "      <td>345</td>\n",
       "      <td>(SET/6 RED SPOTTY PAPER PLATES)</td>\n",
       "      <td>(SET/6 RED SPOTTY PAPER CUPS, POSTAGE, SET/20 ...</td>\n",
       "      <td>0.127551</td>\n",
       "      <td>0.084184</td>\n",
       "      <td>0.081633</td>\n",
       "      <td>0.640000</td>\n",
       "      <td>7.602424</td>\n",
       "      <td>0.070895</td>\n",
       "      <td>2.543934</td>\n",
       "    </tr>\n",
       "    <tr>\n",
       "      <td>346</td>\n",
       "      <td>(POSTAGE)</td>\n",
       "      <td>(SET/6 RED SPOTTY PAPER CUPS, SET/6 RED SPOTTY...</td>\n",
       "      <td>0.765306</td>\n",
       "      <td>0.099490</td>\n",
       "      <td>0.081633</td>\n",
       "      <td>0.106667</td>\n",
       "      <td>1.072137</td>\n",
       "      <td>0.005493</td>\n",
       "      <td>1.008034</td>\n",
       "    </tr>\n",
       "    <tr>\n",
       "      <td>347</td>\n",
       "      <td>(SET/20 RED RETROSPOT PAPER NAPKINS)</td>\n",
       "      <td>(SET/6 RED SPOTTY PAPER CUPS, SET/6 RED SPOTTY...</td>\n",
       "      <td>0.132653</td>\n",
       "      <td>0.102041</td>\n",
       "      <td>0.081633</td>\n",
       "      <td>0.615385</td>\n",
       "      <td>6.030769</td>\n",
       "      <td>0.068097</td>\n",
       "      <td>2.334694</td>\n",
       "    </tr>\n",
       "  </tbody>\n",
       "</table>\n",
       "<p>348 rows × 9 columns</p>\n",
       "</div>"
      ],
      "text/plain": [
       "                                       antecedents  \\\n",
       "0                                        (POSTAGE)   \n",
       "1                    (4 TRADITIONAL SPINNING TOPS)   \n",
       "2                     (ALARM CLOCK BAKELIKE GREEN)   \n",
       "3                      (ALARM CLOCK BAKELIKE PINK)   \n",
       "4                     (ALARM CLOCK BAKELIKE GREEN)   \n",
       "..                                             ...   \n",
       "343  (POSTAGE, SET/20 RED RETROSPOT PAPER NAPKINS)   \n",
       "344                  (SET/6 RED SPOTTY PAPER CUPS)   \n",
       "345                (SET/6 RED SPOTTY PAPER PLATES)   \n",
       "346                                      (POSTAGE)   \n",
       "347           (SET/20 RED RETROSPOT PAPER NAPKINS)   \n",
       "\n",
       "                                           consequents  antecedent support  \\\n",
       "0                        (4 TRADITIONAL SPINNING TOPS)            0.765306   \n",
       "1                                            (POSTAGE)            0.071429   \n",
       "2                          (ALARM CLOCK BAKELIKE PINK)            0.096939   \n",
       "3                         (ALARM CLOCK BAKELIKE GREEN)            0.102041   \n",
       "4                           (ALARM CLOCK BAKELIKE RED)            0.096939   \n",
       "..                                                 ...                 ...   \n",
       "343  (SET/6 RED SPOTTY PAPER CUPS, SET/6 RED SPOTTY...            0.109694   \n",
       "344  (SET/6 RED SPOTTY PAPER PLATES, POSTAGE, SET/2...            0.137755   \n",
       "345  (SET/6 RED SPOTTY PAPER CUPS, POSTAGE, SET/20 ...            0.127551   \n",
       "346  (SET/6 RED SPOTTY PAPER CUPS, SET/6 RED SPOTTY...            0.765306   \n",
       "347  (SET/6 RED SPOTTY PAPER CUPS, SET/6 RED SPOTTY...            0.132653   \n",
       "\n",
       "     consequent support   support  confidence      lift  leverage  conviction  \n",
       "0              0.071429  0.056122    0.073333  1.026667  0.001458    1.002055  \n",
       "1              0.765306  0.056122    0.785714  1.026667  0.001458    1.095238  \n",
       "2              0.102041  0.073980    0.763158  7.478947  0.064088    3.791383  \n",
       "3              0.096939  0.073980    0.725000  7.478947  0.064088    3.283859  \n",
       "4              0.094388  0.079082    0.815789  8.642959  0.069932    4.916181  \n",
       "..                  ...       ...         ...       ...       ...         ...  \n",
       "343            0.122449  0.081633    0.744186  6.077519  0.068201    3.430427  \n",
       "344            0.084184  0.081633    0.592593  7.039282  0.070036    2.247913  \n",
       "345            0.084184  0.081633    0.640000  7.602424  0.070895    2.543934  \n",
       "346            0.099490  0.081633    0.106667  1.072137  0.005493    1.008034  \n",
       "347            0.102041  0.081633    0.615385  6.030769  0.068097    2.334694  \n",
       "\n",
       "[348 rows x 9 columns]"
      ]
     },
     "execution_count": 21,
     "metadata": {},
     "output_type": "execute_result"
    }
   ],
   "source": [
    "rules"
   ]
  },
  {
   "cell_type": "code",
   "execution_count": 22,
   "metadata": {},
   "outputs": [],
   "source": [
    "rules=rules.sort_values(['confidence','lift'], ascending=[False, False])"
   ]
  },
  {
   "cell_type": "code",
   "execution_count": 23,
   "metadata": {},
   "outputs": [
    {
     "name": "stdout",
     "output_type": "stream",
     "text": [
      "                                           antecedents  \\\n",
      "45                        (JUMBO BAG WOODLAND ANIMALS)   \n",
      "260  (RED TOADSTOOL LED NIGHT LIGHT, PLASTERS IN TI...   \n",
      "272  (RED TOADSTOOL LED NIGHT LIGHT, PLASTERS IN TI...   \n",
      "301  (SET/6 RED SPOTTY PAPER CUPS, SET/20 RED RETRO...   \n",
      "302  (SET/6 RED SPOTTY PAPER PLATES, SET/20 RED RET...   \n",
      "..                                                 ...   \n",
      "36                                           (POSTAGE)   \n",
      "26                                           (POSTAGE)   \n",
      "96                                           (POSTAGE)   \n",
      "225                                          (POSTAGE)   \n",
      "215                                          (POSTAGE)   \n",
      "\n",
      "                                           consequents  antecedent support  \\\n",
      "45                                           (POSTAGE)            0.076531   \n",
      "260                                          (POSTAGE)            0.051020   \n",
      "272                                          (POSTAGE)            0.053571   \n",
      "301                    (SET/6 RED SPOTTY PAPER PLATES)            0.102041   \n",
      "302                      (SET/6 RED SPOTTY PAPER CUPS)            0.102041   \n",
      "..                                                 ...                 ...   \n",
      "36                            (JAM MAKING SET PRINTED)            0.765306   \n",
      "26                   (CIRCUS PARADE CHILDRENS EGG CUP)            0.765306   \n",
      "96                                     (PARTY BUNTING)            0.765306   \n",
      "225      (LUNCH BAG RED RETROSPOT, LUNCH BAG WOODLAND)            0.765306   \n",
      "215  (LUNCH BAG SPACEBOY DESIGN, LUNCH BAG APPLE DE...            0.765306   \n",
      "\n",
      "     consequent support   support  confidence      lift  leverage  conviction  \n",
      "45             0.765306  0.076531    1.000000  1.306667  0.017961         inf  \n",
      "260            0.765306  0.051020    1.000000  1.306667  0.011974         inf  \n",
      "272            0.765306  0.053571    1.000000  1.306667  0.012573         inf  \n",
      "301            0.127551  0.099490    0.975000  7.644000  0.086474   34.897959  \n",
      "302            0.137755  0.099490    0.975000  7.077778  0.085433   34.489796  \n",
      "..                  ...       ...         ...       ...       ...         ...  \n",
      "36             0.053571  0.051020    0.066667  1.244444  0.010022    1.014031  \n",
      "26             0.056122  0.051020    0.066667  1.187879  0.008070    1.011297  \n",
      "96             0.056122  0.051020    0.066667  1.187879  0.008070    1.011297  \n",
      "225            0.056122  0.051020    0.066667  1.187879  0.008070    1.011297  \n",
      "215            0.063776  0.051020    0.066667  1.045333  0.002213    1.003098  \n",
      "\n",
      "[348 rows x 9 columns]\n"
     ]
    }
   ],
   "source": [
    "print(rules)"
   ]
  },
  {
   "cell_type": "code",
   "execution_count": 24,
   "metadata": {},
   "outputs": [],
   "source": [
    "frq_items1 = apriori(bucket_Australia, min_support=0.04, use_colnames = True)"
   ]
  },
  {
   "cell_type": "code",
   "execution_count": null,
   "metadata": {},
   "outputs": [],
   "source": [
    "rules = association_rules(frq_items1, metric=\"lift\", min_threshold=1)\n",
    "rules = rules.sort_values(['confidence', 'lift'], ascending=[False, False])\n",
    "print(rules.head())"
   ]
  },
  {
   "cell_type": "code",
   "execution_count": null,
   "metadata": {},
   "outputs": [],
   "source": []
  }
 ],
 "metadata": {
  "kernelspec": {
   "display_name": "Python 3",
   "language": "python",
   "name": "python3"
  },
  "language_info": {
   "codemirror_mode": {
    "name": "ipython",
    "version": 3
   },
   "file_extension": ".py",
   "mimetype": "text/x-python",
   "name": "python",
   "nbconvert_exporter": "python",
   "pygments_lexer": "ipython3",
   "version": "3.7.4"
  }
 },
 "nbformat": 4,
 "nbformat_minor": 2
}
