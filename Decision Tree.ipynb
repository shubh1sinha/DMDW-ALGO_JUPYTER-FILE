{
 "cells": [
  {
   "cell_type": "code",
   "execution_count": 1,
   "metadata": {},
   "outputs": [],
   "source": [
    "import numpy as nump\n",
    "import pandas as pd\n",
    "from sklearn.metrics import confusion_matrix \n",
    "from sklearn.metrics import accuracy_score\n",
    "from sklearn.metrics import classification_report\n",
    "from sklearn.model_selection import train_test_split\n",
    "from sklearn.tree import DecisionTreeClassifier\n"
   ]
  },
  {
   "cell_type": "code",
   "execution_count": 2,
   "metadata": {},
   "outputs": [],
   "source": [
    "def importdata():\n",
    "    balance_data=pd.read_csv('balance-scale.data' ,sep=',' ,header=None)\n",
    "    print(\"Dataset Length\", len(balance__data))\n",
    "    print(\"Dataset Shape\", balance_data.shape )\n",
    "    print(\"Dataset:\" ,balance_data.head())\n",
    "    return balance_data\n",
    "    "
   ]
  },
  {
   "cell_type": "code",
   "execution_count": 3,
   "metadata": {},
   "outputs": [],
   "source": [
    "def splitdataset(balance_data):\n",
    "    Y=balance_data.values[:,0]\n",
    "    X=balance_data.values[:,1:5]\n",
    "    X_train, X_test, Y_train, Y_test=train_test_split(X,Y,train_size=0.3 , random_state=100)\n",
    "    return X,Y, X_train, X_test, Y_train, Y_test"
   ]
  },
  {
   "cell_type": "code",
   "execution_count": 4,
   "metadata": {},
   "outputs": [],
   "source": [
    "def train_using_gini():\n",
    "    clf_gini= DecisionTreeClassifier(criterion=\"gini\",random_state=100,max_depth=3,min_samples_leaf=5)\n",
    "    clf_gini.fir(X_train,Y_train)\n",
    "    return clf_gini"
   ]
  },
  {
   "cell_type": "code",
   "execution_count": 5,
   "metadata": {},
   "outputs": [],
   "source": [
    "def train_using_entorpy():\n",
    "    clf_entorpy= DecisionTreeClassifier(criterion=\"entorpy\",random_state=100,max_depth=3,min_samples_leaf=5)\n",
    "    clf_entorpy.fir(X_train,Y_train)\n",
    "    return clf_entorpy"
   ]
  },
  {
   "cell_type": "code",
   "execution_count": 6,
   "metadata": {},
   "outputs": [],
   "source": [
    "def prediction(X_test, clf_object):\n",
    "    y_pred = clf_object.predict(X_test)\n",
    "    print(\"Predicted Values: \")\n",
    "    print(y_pred)\n",
    "    return y_pred\n"
   ]
  },
  {
   "cell_type": "code",
   "execution_count": 7,
   "metadata": {},
   "outputs": [],
   "source": [
    "def cal_accuracy(Y_test,y_pred):\n",
    "    print(\"Confusion Matrix\", confusion_matrix(Y_test,y_pred))\n",
    "    print(\"Acuuracy\",accuracy_score(Y_test,y_pred)*100)\n",
    "    print(\"Classification Report\",classification_report(Y_test,y_pred))"
   ]
  },
  {
   "cell_type": "code",
   "execution_count": 8,
   "metadata": {},
   "outputs": [],
   "source": [
    "def main():\n",
    "    data=importdata()\n",
    "    X,Y,X_train,X_test,Y_train,Y_test=splitdataset(balance_data)\n",
    "    clf_gini=train_using_gini(X_train,Y_train)\n",
    "    clf_entorpy=train_using_entorpy(X_train,Y_train)\n",
    "    \n",
    "    print(\"Result Using GINI Index:\")\n",
    "    y_pred_gini=prediction(X_test, clf_gini)\n",
    "    cal_accuracy(Y_test,y_pred_gini)\n",
    "    \n",
    "    print(\"Result Using Entorpy:\")\n",
    "    y_pred_entorpy=prediction(X_test, clf_entorpy)\n",
    "    cal_accuracy(Y_test,y_pred_entorpy)\n",
    "    "
   ]
  },
  {
   "cell_type": "code",
   "execution_count": 10,
   "metadata": {},
   "outputs": [],
   "source": [
    "if __name__ == \"__main()__\":\n",
    "    main()"
   ]
  },
  {
   "cell_type": "code",
   "execution_count": null,
   "metadata": {},
   "outputs": [],
   "source": []
  }
 ],
 "metadata": {
  "kernelspec": {
   "display_name": "Python 3",
   "language": "python",
   "name": "python3"
  },
  "language_info": {
   "codemirror_mode": {
    "name": "ipython",
    "version": 3
   },
   "file_extension": ".py",
   "mimetype": "text/x-python",
   "name": "python",
   "nbconvert_exporter": "python",
   "pygments_lexer": "ipython3",
   "version": "3.7.4"
  }
 },
 "nbformat": 4,
 "nbformat_minor": 2
}
